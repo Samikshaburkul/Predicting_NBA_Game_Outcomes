{
  "nbformat": 4,
  "nbformat_minor": 0,
  "metadata": {
    "colab": {
      "provenance": []
    },
    "kernelspec": {
      "name": "python3",
      "display_name": "Python 3"
    },
    "language_info": {
      "name": "python"
    }
  },
  "cells": [
    {
      "cell_type": "code",
      "execution_count": 86,
      "metadata": {
        "colab": {
          "base_uri": "https://localhost:8080/"
        },
        "id": "x0Uf2pcoCK_a",
        "outputId": "1e3d2fe8-5356-4c67-b4c0-58480d2ce353"
      },
      "outputs": [
        {
          "output_type": "stream",
          "name": "stdout",
          "text": [
            "GAME_DATE_EST        0\n",
            "GAME_ID              0\n",
            "GAME_STATUS_TEXT     0\n",
            "HOME_TEAM_ID         0\n",
            "VISITOR_TEAM_ID      0\n",
            "SEASON               0\n",
            "TEAM_ID_home         0\n",
            "PTS_home            99\n",
            "FG_PCT_home         99\n",
            "FT_PCT_home         99\n",
            "FG3_PCT_home        99\n",
            "AST_home            99\n",
            "REB_home            99\n",
            "TEAM_ID_away         0\n",
            "PTS_away            99\n",
            "FG_PCT_away         99\n",
            "FT_PCT_away         99\n",
            "FG3_PCT_away        99\n",
            "AST_away            99\n",
            "REB_away            99\n",
            "HOME_TEAM_WINS       0\n",
            "dtype: int64\n",
            "GAME_ID                   0\n",
            "TEAM_ID                   0\n",
            "TEAM_ABBREVIATION         0\n",
            "TEAM_CITY                 0\n",
            "PLAYER_ID                 0\n",
            "PLAYER_NAME               0\n",
            "NICKNAME             615591\n",
            "START_POSITION       412863\n",
            "COMMENT              558939\n",
            "MIN                  109690\n",
            "FGM                  109690\n",
            "FGA                  109690\n",
            "FG_PCT               109690\n",
            "FG3M                 109690\n",
            "FG3A                 109690\n",
            "FG3_PCT              109690\n",
            "FTM                  109690\n",
            "FTA                  109690\n",
            "FT_PCT               109690\n",
            "OREB                 109690\n",
            "DREB                 109690\n",
            "REB                  109690\n",
            "AST                  109690\n",
            "STL                  109690\n",
            "BLK                  109690\n",
            "TO                   109690\n",
            "PF                   109690\n",
            "PTS                  109690\n",
            "PLUS_MINUS           133351\n",
            "dtype: int64\n",
            "PLAYER_NAME    0\n",
            "TEAM_ID        0\n",
            "PLAYER_ID      0\n",
            "SEASON         0\n",
            "dtype: int64\n"
          ]
        },
        {
          "output_type": "execute_result",
          "data": {
            "text/plain": [
              "668628"
            ]
          },
          "metadata": {},
          "execution_count": 86
        }
      ],
      "source": [
        "import pandas as pd\n",
        "games_details=pd.read_csv('games_details.csv', low_memory=False)\n",
        "players=pd.read_csv('players.csv')\n",
        "games=pd.read_csv('games.csv')\n",
        "\n",
        "print(games.isna().sum())\n",
        "print(games_details.isna().sum())\n",
        "print(players.isna().sum())\n",
        "len(games_details)"
      ]
    },
    {
      "cell_type": "code",
      "source": [
        "# subsetting\n",
        "required_columns = ['GAME_ID', 'TEAM_ID', 'PLAYER_ID', 'MIN', 'FGM', 'FTM', 'TO', 'PTS', 'REB', 'AST', 'STL', 'BLK']\n",
        "\n",
        "\n",
        "games_details_subset = games_details[required_columns]"
      ],
      "metadata": {
        "id": "BbzkE18CGLzC"
      },
      "execution_count": 87,
      "outputs": []
    },
    {
      "cell_type": "code",
      "source": [
        "games.dropna(inplace=True)\n",
        "\n",
        "players.dropna(inplace=True)"
      ],
      "metadata": {
        "id": "1TZik_1mEr2R"
      },
      "execution_count": 88,
      "outputs": []
    },
    {
      "cell_type": "code",
      "source": [
        "games_details_subset.dropna(inplace=True)\n",
        "len(games_details)\n",
        "\n"
      ],
      "metadata": {
        "colab": {
          "base_uri": "https://localhost:8080/"
        },
        "id": "46FfhOtfEvcy",
        "outputId": "5a483449-c4f4-4047-bce3-a121eaa22174"
      },
      "execution_count": 89,
      "outputs": [
        {
          "output_type": "stream",
          "name": "stderr",
          "text": [
            "<ipython-input-89-5371eff29aeb>:1: SettingWithCopyWarning: \n",
            "A value is trying to be set on a copy of a slice from a DataFrame\n",
            "\n",
            "See the caveats in the documentation: https://pandas.pydata.org/pandas-docs/stable/user_guide/indexing.html#returning-a-view-versus-a-copy\n",
            "  games_details_subset.dropna(inplace=True)\n"
          ]
        },
        {
          "output_type": "execute_result",
          "data": {
            "text/plain": [
              "668628"
            ]
          },
          "metadata": {},
          "execution_count": 89
        }
      ]
    },
    {
      "cell_type": "code",
      "source": [
        "import pandas as pd\n",
        "\n",
        "\n",
        "\n",
        "# Select subset of required columns from games_details\n",
        "required_columns = ['GAME_ID', 'TEAM_ID', 'PLAYER_ID', 'MIN', 'FGM', 'FTM', 'TO', 'PTS', 'REB', 'AST', 'STL', 'BLK']\n",
        "games_details_subset = games_details[required_columns]\n",
        "\n",
        "# Handling missing values in each dataset\n",
        "games.dropna(inplace=True)\n",
        "games_details_subset.dropna(inplace=True)\n",
        "players.dropna(inplace=True)\n",
        "\n",
        "# Merging datasets\n",
        "merged_data = pd.merge(games, games_details_subset, left_on='GAME_ID', right_on='GAME_ID')\n",
        "merged_data = pd.merge(merged_data, players, left_on='PLAYER_ID', right_on='PLAYER_ID')\n",
        "\n",
        "\n"
      ],
      "metadata": {
        "colab": {
          "base_uri": "https://localhost:8080/"
        },
        "id": "VxUpYubNCYfS",
        "outputId": "3fdaf30b-be17-48c4-e960-efc00bdc306d"
      },
      "execution_count": 90,
      "outputs": [
        {
          "output_type": "stream",
          "name": "stderr",
          "text": [
            "<ipython-input-90-714b680c817c>:11: SettingWithCopyWarning: \n",
            "A value is trying to be set on a copy of a slice from a DataFrame\n",
            "\n",
            "See the caveats in the documentation: https://pandas.pydata.org/pandas-docs/stable/user_guide/indexing.html#returning-a-view-versus-a-copy\n",
            "  games_details_subset.dropna(inplace=True)\n"
          ]
        }
      ]
    },
    {
      "cell_type": "code",
      "source": [
        "\n",
        "# Converting 'MIN' column to numeric values\n",
        "merged_data['MIN'] = pd.to_numeric(merged_data['MIN'], errors='coerce')\n",
        "\n",
        "# Droping rows where 'MIN' is NaN\n",
        "merged_data = merged_data.dropna(subset=['MIN'])\n",
        "\n",
        "# Calculate PER for each player\n",
        "merged_data['PER'] = (\n",
        "    (merged_data['PTS'] + merged_data['REB'] + merged_data['AST'] + merged_data['STL'] + merged_data['BLK']\n",
        "     - merged_data['FGM'] - merged_data['FTM'] - merged_data['TO'])\n",
        "    / merged_data['MIN']\n",
        ") * 48  # Per-minute multiplier\n",
        "\n",
        "# Group by player, team, and season to analyze PER across teams and seasons\n",
        "per_analysis = merged_data.groupby(['PLAYER_NAME', 'TEAM_ID_home', 'SEASON_x'])['PER'].mean().reset_index()\n",
        "\n",
        "#most efficient players\n",
        "most_efficient_players = per_analysis.loc[per_analysis.groupby(['SEASON_x', 'TEAM_ID_home'])['PER'].idxmax()]\n",
        "\n",
        "# Display the results\n",
        "print(\"Player Efficiency Ratings (PER) Analysis:\")\n",
        "print(most_efficient_players)\n",
        "# top 10 efficient players\n",
        "#top_10_efficient_players = per_analysis.groupby(['SEASON_x', 'TEAM_ID_home']).apply(lambda x: x.nlargest(10, 'PER')).reset_index(drop=True)\n",
        "\n",
        "\n",
        "#print(\"Top 10 Player Efficiency Ratings (PER) for each SEASON and TEAM_ID_home:\")\n",
        "#print(top_10_efficient_players)\n",
        "\n",
        "\n",
        "\n"
      ],
      "metadata": {
        "colab": {
          "base_uri": "https://localhost:8080/"
        },
        "id": "rRRW-nXvHv-_",
        "outputId": "a9293fef-3215-47bd-bed5-342ec2f472cc"
      },
      "execution_count": 91,
      "outputs": [
        {
          "output_type": "stream",
          "name": "stdout",
          "text": [
            "Player Efficiency Ratings (PER) Analysis:\n",
            "            PLAYER_NAME  TEAM_ID_home  SEASON_x         PER\n",
            "3053       Darius Miles    1610612737      2003  192.000000\n",
            "1193        Ben Wallace    1610612738      2003  172.800000\n",
            "3941        Drew Gooden    1610612740      2003  201.600000\n",
            "12138        Steve Nash    1610612742      2003  163.200000\n",
            "4027        Dwyane Wade    1610612748      2003  240.000000\n",
            "...                 ...           ...       ...         ...\n",
            "3305     DeAndre Jordan    1610612762      2013   39.272727\n",
            "4020      Dwight Howard    1610612763      2013   41.600000\n",
            "7451      Kevin Garnett    1610612764      2013   40.000000\n",
            "7144    Justin Hamilton    1610612765      2013   42.666667\n",
            "10126  Patrick O'Bryant    1610612766      2013   64.000000\n",
            "\n",
            "[311 rows x 4 columns]\n"
          ]
        },
        {
          "output_type": "stream",
          "name": "stderr",
          "text": [
            "<ipython-input-91-9dd7854a00a0>:8: SettingWithCopyWarning: \n",
            "A value is trying to be set on a copy of a slice from a DataFrame.\n",
            "Try using .loc[row_indexer,col_indexer] = value instead\n",
            "\n",
            "See the caveats in the documentation: https://pandas.pydata.org/pandas-docs/stable/user_guide/indexing.html#returning-a-view-versus-a-copy\n",
            "  merged_data['PER'] = (\n"
          ]
        }
      ]
    },
    {
      "cell_type": "code",
      "source": [
        "# Find the index of the maximum PER for each unique year and team combination\n",
        "max_per_index = merged_data.groupby(['SEASON_x', 'TEAM_ID_home'])['PER'].idxmax()\n",
        "\n",
        "\n",
        "highest_per_players = merged_data.loc[max_per_index]\n",
        "\n",
        "# Drop duplicate years, keeping only the player with the maximum total points and total rebounds in case of ties\n",
        "highest_per_players = highest_per_players.sort_values(by=['SEASON_x', 'TEAM_ID_home', 'PTS', 'REB'], ascending=[True, True, False, False])\n",
        "highest_per_players = highest_per_players.drop_duplicates(subset=['SEASON_x', 'TEAM_ID_home'])\n",
        "\n",
        "\n",
        "print(\"Highest PER Player for Each Year:\")\n",
        "print(highest_per_players[['SEASON_x', 'TEAM_ID_home', 'PLAYER_NAME', 'PER', 'PTS', 'REB']])"
      ],
      "metadata": {
        "colab": {
          "base_uri": "https://localhost:8080/"
        },
        "id": "crhhGXdMKbFq",
        "outputId": "39801ce3-3eda-4a60-ef30-f48342cfd2fa"
      },
      "execution_count": 74,
      "outputs": [
        {
          "output_type": "stream",
          "name": "stdout",
          "text": [
            "Highest PER Player for Each Year:\n",
            "         SEASON_x  TEAM_ID_home       PLAYER_NAME         PER   PTS   REB\n",
            "3561750      2003    1610612737      Darius Miles  192.000000  13.0   7.0\n",
            "3479369      2003    1610612738       Ben Wallace  172.800000  17.0   6.0\n",
            "2133719      2003    1610612740       Drew Gooden  201.600000  29.0   5.0\n",
            "3027833      2003    1610612742        Steve Nash  163.200000  12.0   2.0\n",
            "1908239      2003    1610612748       Dwyane Wade  240.000000  18.0   8.0\n",
            "...           ...           ...               ...         ...   ...   ...\n",
            "1060693      2013    1610612762    Derrick Favors   40.320000  10.0  14.0\n",
            "1270357      2013    1610612763     Dwight Howard   41.600000   6.0  10.0\n",
            "3265422      2013    1610612764    Josh Childress   64.000000   3.0   1.0\n",
            "2831569      2013    1610612765   Justin Hamilton   42.666667   8.0   4.0\n",
            "3288030      2013    1610612766  Patrick O'Bryant   64.000000   2.0   5.0\n",
            "\n",
            "[311 rows x 6 columns]\n"
          ]
        }
      ]
    },
    {
      "cell_type": "code",
      "source": [
        "a=most_efficient_players.to_csv('/content/sample_data/most_efficient_players.csv', index=False)"
      ],
      "metadata": {
        "id": "eXTKqQ7FLcQ8"
      },
      "execution_count": 85,
      "outputs": []
    }
  ]
}