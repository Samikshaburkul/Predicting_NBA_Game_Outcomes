{
  "nbformat": 4,
  "nbformat_minor": 0,
  "metadata": {
    "colab": {
      "provenance": []
    },
    "kernelspec": {
      "name": "python3",
      "display_name": "Python 3"
    },
    "language_info": {
      "name": "python"
    }
  },
  "cells": [
    {
      "cell_type": "markdown",
      "source": [
        "#Importing Libraries"
      ],
      "metadata": {
        "id": "IIdrO2Q69b5r"
      }
    },
    {
      "cell_type": "code",
      "source": [
        "import pandas as pd\n",
        "from sklearn.model_selection import train_test_split\n",
        "from sklearn.preprocessing import StandardScaler\n",
        "from sklearn import tree\n",
        "from sklearn.svm import SVC\n",
        "from sklearn.linear_model import LogisticRegression\n",
        "from sklearn.tree import DecisionTreeClassifier\n",
        "from sklearn.metrics import accuracy_score, classification_report, confusion_matrix\n",
        "from sklearn.metrics import roc_curve, roc_auc_score\n",
        "import matplotlib.pyplot as plt\n",
        "from sklearn.neighbors import KNeighborsClassifier"
      ],
      "metadata": {
        "id": "ZyT2tuiJ9ZrX"
      },
      "execution_count": null,
      "outputs": []
    },
    {
      "cell_type": "markdown",
      "source": [
        "#Data Preprocessing"
      ],
      "metadata": {
        "id": "UB93ZmcC9hQ9"
      }
    },
    {
      "cell_type": "code",
      "source": [
        "# Load the dataset\n",
        "df = pd.read_csv('games.csv')\n",
        "\n",
        "# Select relevant predictor variables\n",
        "predictor_columns = ['PTS_home', 'FG_PCT_home', 'FT_PCT_home',  'AST_home', 'REB_home',\n",
        "                      'HOME_TEAM_WINS']\n",
        "\n",
        "# Subset the DataFrame with relevant columns\n",
        "df = df[predictor_columns]\n",
        "\n",
        "df['HOME_TEAM_WINS'] = df['HOME_TEAM_WINS'].astype('str')\n",
        "\n",
        "# Remove rows with missaing values\n",
        "df = df.dropna()\n",
        "\n",
        "# Separate features (X) and target variable (y)\n",
        "X = df.drop('HOME_TEAM_WINS', axis=1)\n",
        "y = df['HOME_TEAM_WINS']"
      ],
      "metadata": {
        "id": "9iXE7Dv2Gj8z"
      },
      "execution_count": 56,
      "outputs": []
    },
    {
      "cell_type": "code",
      "source": [
        "win_counts = df['HOME_TEAM_WINS'].value_counts()\n",
        "print(win_counts)"
      ],
      "metadata": {
        "colab": {
          "base_uri": "https://localhost:8080/"
        },
        "id": "JWet_nkX_tHB",
        "outputId": "d37a4b77-2f87-48b9-fbb1-fb756b4690ea"
      },
      "execution_count": 57,
      "outputs": [
        {
          "output_type": "stream",
          "name": "stdout",
          "text": [
            "1    15645\n",
            "0    10907\n",
            "Name: HOME_TEAM_WINS, dtype: int64\n"
          ]
        }
      ]
    },
    {
      "cell_type": "markdown",
      "source": [
        "#Logistic Regression"
      ],
      "metadata": {
        "id": "_mVf1gNh5pGT"
      }
    },
    {
      "cell_type": "code",
      "source": [
        "\n",
        "\n",
        "# Split the data into training and testing sets\n",
        "X_train, X_test, y_train, y_test = train_test_split(X, y, test_size=0.3, random_state=1042)\n",
        "\n",
        "# Standardize the features (optional but often recommended)\n",
        "scaler = StandardScaler()\n",
        "X_train_scaled = scaler.fit_transform(X_train)\n",
        "X_test_scaled = scaler.transform(X_test)\n",
        "\n",
        "# Create and train the logistic regression model\n",
        "model = LogisticRegression(random_state=8899)\n",
        "model.fit(X_train_scaled, y_train)\n",
        "\n",
        "# Make predictions on the test set\n",
        "y_pred = model.predict(X_test_scaled)"
      ],
      "metadata": {
        "id": "9t6JqxFuGmnW"
      },
      "execution_count": 48,
      "outputs": []
    },
    {
      "cell_type": "code",
      "source": [
        "accuracy = accuracy_score(y_test, y_pred)\n",
        "conf_matrix = confusion_matrix(y_test, y_pred)\n",
        "classification_rep = classification_report(y_test, y_pred)\n",
        "\n",
        "print(f'Accuracy: {accuracy:.2f}')\n",
        "print('\\nConfusion Matrix:')\n",
        "print(conf_matrix)\n",
        "print('\\nClassification Report:')\n",
        "print(classification_rep)"
      ],
      "metadata": {
        "colab": {
          "base_uri": "https://localhost:8080/"
        },
        "id": "-onn65ZuGp0s",
        "outputId": "a357f2a9-4575-4e4c-9061-88ac9ea9df24"
      },
      "execution_count": 49,
      "outputs": [
        {
          "output_type": "stream",
          "name": "stdout",
          "text": [
            "Accuracy: 0.76\n",
            "\n",
            "Confusion Matrix:\n",
            "[[2202 1075]\n",
            " [ 870 3819]]\n",
            "\n",
            "Classification Report:\n",
            "              precision    recall  f1-score   support\n",
            "\n",
            "           0       0.72      0.67      0.69      3277\n",
            "           1       0.78      0.81      0.80      4689\n",
            "\n",
            "    accuracy                           0.76      7966\n",
            "   macro avg       0.75      0.74      0.75      7966\n",
            "weighted avg       0.75      0.76      0.75      7966\n",
            "\n"
          ]
        }
      ]
    },
    {
      "cell_type": "code",
      "source": [],
      "metadata": {
        "id": "tOmzjr0nU3L4"
      },
      "execution_count": 40,
      "outputs": []
    },
    {
      "cell_type": "code",
      "source": [
        "\n",
        "\n",
        "# Plot ROC curve\n",
        "y_probs = model.predict_proba(X_test_scaled)[:, 1]\n",
        "fpr, tpr, _ = roc_curve(y_test.astype(int), y_probs)\n",
        "\n",
        "plt.figure(figsize=(8, 6))\n",
        "plt.plot(fpr, tpr, label='ROC curve')\n",
        "plt.xlabel('False Positive Rate')\n",
        "plt.ylabel('True Positive Rate')\n",
        "plt.title('ROC Curve')\n",
        "plt.legend()\n",
        "plt.show()\n",
        "\n",
        "# Calculate and print AUC score\n",
        "auc_score = roc_auc_score(y_test.astype(int), y_probs)\n",
        "print(f'AUC Score: {auc_score:.2f}')\n"
      ],
      "metadata": {
        "colab": {
          "base_uri": "https://localhost:8080/",
          "height": 581
        },
        "id": "MioBCWERSBHk",
        "outputId": "7b1c2590-05b5-48db-96ef-cca4ca0c0ecb"
      },
      "execution_count": 50,
      "outputs": [
        {
          "output_type": "display_data",
          "data": {
            "text/plain": [
              "<Figure size 800x600 with 1 Axes>"
            ],
            "image/png": "[encoded data removed]"
          },
          "metadata": {}
        },
        {
          "output_type": "stream",
          "name": "stdout",
          "text": [
            "AUC Score: 0.83\n"
          ]
        }
      ]
    },
    {
      "cell_type": "code",
      "source": [
        "# Example of tuning C parameter\n",
        "for c_value in [0.001, 0.01, 0.1, 1, 10, 100]:\n",
        "    model = LogisticRegression(C=c_value, random_state=8899)\n",
        "    model.fit(X_train_scaled, y_train)\n",
        "    y_pred = model.predict(X_test_scaled)\n",
        "    accuracy = accuracy_score(y_test, y_pred)\n",
        "    print(f'C={c_value}, Accuracy: {accuracy:.2f}')\n"
      ],
      "metadata": {
        "id": "_nmr16n3Jn7B",
        "colab": {
          "base_uri": "https://localhost:8080/"
        },
        "outputId": "257d684d-78ad-46b7-d944-d00e1ea4a1b2"
      },
      "execution_count": 51,
      "outputs": [
        {
          "output_type": "stream",
          "name": "stdout",
          "text": [
            "C=0.001, Accuracy: 0.75\n",
            "C=0.01, Accuracy: 0.75\n",
            "C=0.1, Accuracy: 0.76\n",
            "C=1, Accuracy: 0.76\n",
            "C=10, Accuracy: 0.76\n",
            "C=100, Accuracy: 0.76\n"
          ]
        }
      ]
    },
    {
      "cell_type": "markdown",
      "source": [
        "#Decision Tree"
      ],
      "metadata": {
        "id": "sGNY-eOc52ZF"
      }
    },
    {
      "cell_type": "code",
      "source": [
        "\n",
        "\n",
        "# Load the dataset\n",
        "df = pd.read_csv('games.csv')\n",
        "\n",
        "# Select relevant predictor variables\n",
        "predictor_columns = ['PTS_home', 'FG_PCT_home', 'FT_PCT_home',  'AST_home', 'REB_home',\n",
        "                     'HOME_TEAM_WINS']\n",
        "\n",
        "# Subset the DataFrame with relevant columns\n",
        "df = df[predictor_columns]\n",
        "\n",
        "# Remove rows with missing values\n",
        "df = df.dropna()\n",
        "\n",
        "# Separate features (X) and target variable (y)\n",
        "X = df.drop('HOME_TEAM_WINS', axis=1)\n",
        "y = df['HOME_TEAM_WINS']\n",
        "\n",
        "# Split the data into training and testing sets\n",
        "X_train, X_test, y_train, y_test = train_test_split(X, y, test_size=0.3, random_state=1042)\n",
        "\n",
        "# Standardize the features (optional but often recommended)\n",
        "scaler = StandardScaler()\n",
        "X_train_scaled = scaler.fit_transform(X_train)\n",
        "X_test_scaled = scaler.transform(X_test)\n",
        "\n",
        "# Create and train the decision tree model\n",
        "tree_model = DecisionTreeClassifier(random_state=8899)\n",
        "tree_model.fit(X_train_scaled, y_train)\n",
        "\n",
        "# Make predictions on the test set\n",
        "y_pred = tree_model.predict(X_test_scaled)\n",
        "\n",
        "# Evaluate the model performance\n",
        "accuracy = accuracy_score(y_test, y_pred)\n",
        "conf_matrix = confusion_matrix(y_test, y_pred)\n",
        "classification_rep = classification_report(y_test, y_pred)\n",
        "\n",
        "print(f'Decision Tree Accuracy: {accuracy:.2f}')\n",
        "print('\\nConfusion Matrix:')\n",
        "print(conf_matrix)\n",
        "print('\\nClassification Report:')\n",
        "print(classification_rep)\n",
        "\n"
      ],
      "metadata": {
        "colab": {
          "base_uri": "https://localhost:8080/"
        },
        "id": "KRrAo5tY1iMq",
        "outputId": "1a1ed4df-49f2-44fe-dc00-6146b8b5ad3a"
      },
      "execution_count": 52,
      "outputs": [
        {
          "output_type": "stream",
          "name": "stdout",
          "text": [
            "Decision Tree Accuracy: 0.67\n",
            "\n",
            "Confusion Matrix:\n",
            "[[1994 1283]\n",
            " [1326 3363]]\n",
            "\n",
            "Classification Report:\n",
            "              precision    recall  f1-score   support\n",
            "\n",
            "           0       0.60      0.61      0.60      3277\n",
            "           1       0.72      0.72      0.72      4689\n",
            "\n",
            "    accuracy                           0.67      7966\n",
            "   macro avg       0.66      0.66      0.66      7966\n",
            "weighted avg       0.67      0.67      0.67      7966\n",
            "\n"
          ]
        }
      ]
    },
    {
      "cell_type": "markdown",
      "source": [
        "#Support Vector Machine"
      ],
      "metadata": {
        "id": "m1GTavpj57FU"
      }
    },
    {
      "cell_type": "code",
      "source": [
        "\n",
        "\n",
        "# Load the dataset\n",
        "df = pd.read_csv('games.csv')\n",
        "\n",
        "# Select relevant predictor variables\n",
        "predictor_columns = ['PTS_home', 'FG_PCT_home', 'FT_PCT_home', 'AST_home', 'REB_home', 'HOME_TEAM_WINS']\n",
        "\n",
        "# Subset the DataFrame with relevant columns\n",
        "df = df[predictor_columns]\n",
        "\n",
        "# Remove rows with missing values\n",
        "df = df.dropna()\n",
        "\n",
        "# Separate features (X) and target variable (y)\n",
        "X = df.drop('HOME_TEAM_WINS', axis=1)\n",
        "y = df['HOME_TEAM_WINS']\n",
        "\n",
        "# Split the data into training and testing sets\n",
        "X_train, X_test, y_train, y_test = train_test_split(X, y, test_size=0.3, random_state=1042)\n",
        "\n",
        "# Standardize the features (important for SVM)\n",
        "scaler = StandardScaler()\n",
        "X_train_scaled = scaler.fit_transform(X_train)\n",
        "X_test_scaled = scaler.transform(X_test)\n",
        "\n",
        "# Create and train the SVM model\n",
        "svm_model = SVC(random_state=8899)\n",
        "svm_model.fit(X_train_scaled, y_train)\n",
        "\n",
        "# Make predictions on the test set\n",
        "y_pred = svm_model.predict(X_test_scaled)\n",
        "\n",
        "# Evaluate the model performance\n",
        "accuracy = accuracy_score(y_test, y_pred)\n",
        "conf_matrix = confusion_matrix(y_test, y_pred)\n",
        "classification_rep = classification_report(y_test, y_pred)\n",
        "\n",
        "print(f'SVM Accuracy: {accuracy:.2f}')\n",
        "print('\\nConfusion Matrix:')\n",
        "print(conf_matrix)\n",
        "print('\\nClassification Report:')\n",
        "print(classification_rep)\n",
        "\n"
      ],
      "metadata": {
        "colab": {
          "base_uri": "https://localhost:8080/"
        },
        "id": "Ad5XAr5o1tq5",
        "outputId": "198d84a0-c618-419a-bb7f-665049cae77a"
      },
      "execution_count": 55,
      "outputs": [
        {
          "output_type": "stream",
          "name": "stdout",
          "text": [
            "SVM Accuracy: 0.75\n",
            "\n",
            "Confusion Matrix:\n",
            "[[2111 1166]\n",
            " [ 786 3903]]\n",
            "\n",
            "Classification Report:\n",
            "              precision    recall  f1-score   support\n",
            "\n",
            "           0       0.73      0.64      0.68      3277\n",
            "           1       0.77      0.83      0.80      4689\n",
            "\n",
            "    accuracy                           0.75      7966\n",
            "   macro avg       0.75      0.74      0.74      7966\n",
            "weighted avg       0.75      0.75      0.75      7966\n",
            "\n"
          ]
        }
      ]
    },
    {
      "cell_type": "markdown",
      "source": [],
      "metadata": {
        "id": "LAyDQyu29Xsa"
      }
    },
    {
      "cell_type": "markdown",
      "source": [
        "#KNN"
      ],
      "metadata": {
        "id": "DcQPrHfk6AVo"
      }
    },
    {
      "cell_type": "code",
      "source": [
        "\n",
        "\n",
        "# Load the dataset\n",
        "df = pd.read_csv('games.csv')\n",
        "\n",
        "# Select relevant predictor variables\n",
        "predictor_columns = ['PTS_home', 'FG_PCT_home', 'FT_PCT_home', 'AST_home', 'REB_home', 'HOME_TEAM_WINS']\n",
        "\n",
        "# Subset the DataFrame with relevant columns\n",
        "df = df[predictor_columns]\n",
        "\n",
        "# Remove rows with missing values\n",
        "df = df.dropna()\n",
        "\n",
        "# Separate features (X) and target variable (y)\n",
        "X = df.drop('HOME_TEAM_WINS', axis=1)\n",
        "y = df['HOME_TEAM_WINS']\n",
        "\n",
        "# Split the data into training and testing sets\n",
        "X_train, X_test, y_train, y_test = train_test_split(X, y, test_size=0.3, random_state=1042)\n",
        "\n",
        "# Standardize the features (important for KNN)\n",
        "scaler = StandardScaler()\n",
        "X_train_scaled = scaler.fit_transform(X_train)\n",
        "X_test_scaled = scaler.transform(X_test)\n",
        "\n",
        "# Create and train the KNN model\n",
        "knn_model = KNeighborsClassifier(n_neighbors=5)  # You can adjust the number of neighbors (n_neighbors) as needed\n",
        "knn_model.fit(X_train_scaled, y_train)\n",
        "\n",
        "# Make predictions on the test set\n",
        "y_pred = knn_model.predict(X_test_scaled)\n",
        "\n",
        "# Evaluate the model performance\n",
        "accuracy = accuracy_score(y_test, y_pred)\n",
        "conf_matrix = confusion_matrix(y_test, y_pred)\n",
        "classification_rep = classification_report(y_test, y_pred)\n",
        "\n",
        "print(f'KNN Accuracy: {accuracy:.2f}')\n",
        "print('\\nConfusion Matrix:')\n",
        "print(conf_matrix)\n",
        "print('\\nClassification Report:')\n",
        "print(classification_rep)\n"
      ],
      "metadata": {
        "colab": {
          "base_uri": "https://localhost:8080/"
        },
        "id": "IDzdcqJR1_dP",
        "outputId": "9d015edc-c387-4b5a-ef3d-eb59c8e4a30c"
      },
      "execution_count": 54,
      "outputs": [
        {
          "output_type": "stream",
          "name": "stdout",
          "text": [
            "KNN Accuracy: 0.72\n",
            "\n",
            "Confusion Matrix:\n",
            "[[2081 1196]\n",
            " [1034 3655]]\n",
            "\n",
            "Classification Report:\n",
            "              precision    recall  f1-score   support\n",
            "\n",
            "           0       0.67      0.64      0.65      3277\n",
            "           1       0.75      0.78      0.77      4689\n",
            "\n",
            "    accuracy                           0.72      7966\n",
            "   macro avg       0.71      0.71      0.71      7966\n",
            "weighted avg       0.72      0.72      0.72      7966\n",
            "\n"
          ]
        }
      ]
    }
  ]
}